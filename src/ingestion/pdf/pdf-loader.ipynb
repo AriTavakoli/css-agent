{
 "cells": [
  {
   "cell_type": "code",
   "execution_count": 7,
   "metadata": {},
   "outputs": [
    {
     "name": "stdout",
     "output_type": "stream",
     "text": [
      "page_content='AI Site Generator\\nWhy we built it\\nAlthough half of new users begin by using a template, most of them get discouraged by the large gap between the template and their desired site.\\nUsing generative AI allows us to customize templates in a way that saves users loads of time and reduces hurdles to adopting Webflow. AI Site Generator can customize:\\nPlaceholder text\\nImage assets\\nSite structure\\nPage structure\\nTheme (fonts & colors)\\nWith the result that in ~20 seconds\\nHow it works\\nStep 1: Generate a theme. We ask the LLM to generate several themes (colors + fonts) based on the user’s site description. The user then picks one of the suggested themes.\\nStep 2: Create variables using these theme. Server-side, we create a new site and add variables that correspond to the theme elements.\\nStep 3: Create a sitemap. We ask the LLM to generate a complete sitemap based on the user’s site description. This sitemap includes all pages as well as each section included on those pages.\\nStep 4: Hydrate sitemap. Using the sitemap as a guide, we create a full Webflow site (server-side!). Specifically, we:\\nUse library sections (these are currently third-party libraries, but we could also use in-house libraries)\\nReplace copy (no more placeholder text!)\\nGenerate images (using DALL-E 3)\\nBind styles to variables (since libraries don’t support variables yet)\\nFurther reading\\nHow to use the AI Site Generator\\nService layer\\nA snapshot of the Site Generator , taken Nov 28, 2023  \\nt l ; d r : In roughly 20 seconds, AI Site Generator creates full websites from a short, plain-English description. These sites have customized sitemaps, page structures, placeholder text, images, \\nand themes—so they really feel like they were built specifically for the user.' metadata={'source': './site-generator.pdf', 'page': 0}\n"
     ]
    }
   ],
   "source": [
    "#%pip install pypdf\n",
    "\n",
    "\n",
    "\n",
    "from langchain_community.document_loaders import PyPDFLoader\n",
    "\n",
    "loader = PyPDFLoader(\"./site-generator.pdf\")\n",
    "pages = loader.load_and_split()\n",
    "\n",
    "print(pages[0])"
   ]
  },
  {
   "cell_type": "code",
   "execution_count": 2,
   "metadata": {},
   "outputs": [
    {
     "name": "stdout",
     "output_type": "stream",
     "text": [
      "zsh:1: no matches found: unstructured[pdf]\n"
     ]
    },
    {
     "name": "stdout",
     "output_type": "stream",
     "text": [
      "Note: you may need to restart the kernel to use updated packages.\n"
     ]
    }
   ],
   "source": [
    "pip install unstructured[pdf]\n"
   ]
  },
  {
   "cell_type": "code",
   "execution_count": null,
   "metadata": {},
   "outputs": [],
   "source": []
  }
 ],
 "metadata": {
  "kernelspec": {
   "display_name": "Python 3",
   "language": "python",
   "name": "python3"
  },
  "language_info": {
   "codemirror_mode": {
    "name": "ipython",
    "version": 3
   },
   "file_extension": ".py",
   "mimetype": "text/x-python",
   "name": "python",
   "nbconvert_exporter": "python",
   "pygments_lexer": "ipython3",
   "version": "3.11.8"
  }
 },
 "nbformat": 4,
 "nbformat_minor": 2
}
